{
  "nbformat": 4,
  "nbformat_minor": 0,
  "metadata": {
    "colab": {
      "provenance": [],
      "mount_file_id": "19d74hixmrmJ2CADbjni5dd_-kzWOJllW",
      "authorship_tag": "ABX9TyPZ9VYidhzPW/8tzW6/pPvT",
      "include_colab_link": true
    },
    "kernelspec": {
      "name": "python3",
      "display_name": "Python 3"
    },
    "language_info": {
      "name": "python"
    }
  },
  "cells": [
    {
      "cell_type": "markdown",
      "metadata": {
        "id": "view-in-github",
        "colab_type": "text"
      },
      "source": [
        "<a href=\"https://colab.research.google.com/github/dorjecito/ExpertSystem/blob/master/Copy_of_Codigo_facilito.ipynb\" target=\"_parent\"><img src=\"https://colab.research.google.com/assets/colab-badge.svg\" alt=\"Open In Colab\"/></a>"
      ]
    },
    {
      "cell_type": "code",
      "execution_count": null,
      "metadata": {
        "id": "kxeLcL3HjpLi"
      },
      "outputs": [],
      "source": []
    },
    {
      "cell_type": "code",
      "source": [
        "import pandas as pd\n",
        "\n",
        "# Leer el archivo CSV\n",
        "df = pd.read_csv('/videojuegos.csv')\n",
        "\n",
        "# Mostrar las primeras filas del DataFrame\n",
        "df.head()\n"
      ],
      "metadata": {
        "colab": {
          "base_uri": "https://localhost:8080/",
          "height": 394
        },
        "id": "H5_XorhPkSnb",
        "outputId": "77cb7873-7221-4c90-d67b-550015854a23"
      },
      "execution_count": 4,
      "outputs": [
        {
          "output_type": "execute_result",
          "data": {
            "text/plain": [
              "                                    Nombre Plataforma  Año_de_lanzamiento  \\\n",
              "0                        Super Mario Bros.        NES                1985   \n",
              "1           Call of Duty: Infinite Warfare        PS4                2016   \n",
              "2  The Legend of Zelda: Breath of the Wild     Switch                2017   \n",
              "3                                  FIFA 21        PS4                2020   \n",
              "4                                Minecraft         PC                2011   \n",
              "\n",
              "             Género      Editor  Ventas_NA  Ventas_EU  Ventas_JP  \\\n",
              "0          Platform    Nintendo       8.91       2.41       2.61   \n",
              "1           Shooter  Activision       9.66       6.88       2.79   \n",
              "2  Action-Adventure    Nintendo       9.76       2.96       0.73   \n",
              "3            Sports   EA Sports       4.34       2.95       0.13   \n",
              "4           Sandbox      Mojang       3.50       1.24       4.82   \n",
              "\n",
              "   Ventas_Otros  Ventas_Global  \n",
              "0          1.13           8.22  \n",
              "1          2.11           7.93  \n",
              "2          0.82          16.21  \n",
              "3          0.88           8.22  \n",
              "4          1.19          16.42  "
            ],
            "text/html": [
              "\n",
              "  <div id=\"df-ab1e292b-70c3-48a3-8d81-d09298a7f6de\" class=\"colab-df-container\">\n",
              "    <div>\n",
              "<style scoped>\n",
              "    .dataframe tbody tr th:only-of-type {\n",
              "        vertical-align: middle;\n",
              "    }\n",
              "\n",
              "    .dataframe tbody tr th {\n",
              "        vertical-align: top;\n",
              "    }\n",
              "\n",
              "    .dataframe thead th {\n",
              "        text-align: right;\n",
              "    }\n",
              "</style>\n",
              "<table border=\"1\" class=\"dataframe\">\n",
              "  <thead>\n",
              "    <tr style=\"text-align: right;\">\n",
              "      <th></th>\n",
              "      <th>Nombre</th>\n",
              "      <th>Plataforma</th>\n",
              "      <th>Año_de_lanzamiento</th>\n",
              "      <th>Género</th>\n",
              "      <th>Editor</th>\n",
              "      <th>Ventas_NA</th>\n",
              "      <th>Ventas_EU</th>\n",
              "      <th>Ventas_JP</th>\n",
              "      <th>Ventas_Otros</th>\n",
              "      <th>Ventas_Global</th>\n",
              "    </tr>\n",
              "  </thead>\n",
              "  <tbody>\n",
              "    <tr>\n",
              "      <th>0</th>\n",
              "      <td>Super Mario Bros.</td>\n",
              "      <td>NES</td>\n",
              "      <td>1985</td>\n",
              "      <td>Platform</td>\n",
              "      <td>Nintendo</td>\n",
              "      <td>8.91</td>\n",
              "      <td>2.41</td>\n",
              "      <td>2.61</td>\n",
              "      <td>1.13</td>\n",
              "      <td>8.22</td>\n",
              "    </tr>\n",
              "    <tr>\n",
              "      <th>1</th>\n",
              "      <td>Call of Duty: Infinite Warfare</td>\n",
              "      <td>PS4</td>\n",
              "      <td>2016</td>\n",
              "      <td>Shooter</td>\n",
              "      <td>Activision</td>\n",
              "      <td>9.66</td>\n",
              "      <td>6.88</td>\n",
              "      <td>2.79</td>\n",
              "      <td>2.11</td>\n",
              "      <td>7.93</td>\n",
              "    </tr>\n",
              "    <tr>\n",
              "      <th>2</th>\n",
              "      <td>The Legend of Zelda: Breath of the Wild</td>\n",
              "      <td>Switch</td>\n",
              "      <td>2017</td>\n",
              "      <td>Action-Adventure</td>\n",
              "      <td>Nintendo</td>\n",
              "      <td>9.76</td>\n",
              "      <td>2.96</td>\n",
              "      <td>0.73</td>\n",
              "      <td>0.82</td>\n",
              "      <td>16.21</td>\n",
              "    </tr>\n",
              "    <tr>\n",
              "      <th>3</th>\n",
              "      <td>FIFA 21</td>\n",
              "      <td>PS4</td>\n",
              "      <td>2020</td>\n",
              "      <td>Sports</td>\n",
              "      <td>EA Sports</td>\n",
              "      <td>4.34</td>\n",
              "      <td>2.95</td>\n",
              "      <td>0.13</td>\n",
              "      <td>0.88</td>\n",
              "      <td>8.22</td>\n",
              "    </tr>\n",
              "    <tr>\n",
              "      <th>4</th>\n",
              "      <td>Minecraft</td>\n",
              "      <td>PC</td>\n",
              "      <td>2011</td>\n",
              "      <td>Sandbox</td>\n",
              "      <td>Mojang</td>\n",
              "      <td>3.50</td>\n",
              "      <td>1.24</td>\n",
              "      <td>4.82</td>\n",
              "      <td>1.19</td>\n",
              "      <td>16.42</td>\n",
              "    </tr>\n",
              "  </tbody>\n",
              "</table>\n",
              "</div>\n",
              "    <div class=\"colab-df-buttons\">\n",
              "\n",
              "  <div class=\"colab-df-container\">\n",
              "    <button class=\"colab-df-convert\" onclick=\"convertToInteractive('df-ab1e292b-70c3-48a3-8d81-d09298a7f6de')\"\n",
              "            title=\"Convert this dataframe to an interactive table.\"\n",
              "            style=\"display:none;\">\n",
              "\n",
              "  <svg xmlns=\"http://www.w3.org/2000/svg\" height=\"24px\" viewBox=\"0 -960 960 960\">\n",
              "    <path d=\"M120-120v-720h720v720H120Zm60-500h600v-160H180v160Zm220 220h160v-160H400v160Zm0 220h160v-160H400v160ZM180-400h160v-160H180v160Zm440 0h160v-160H620v160ZM180-180h160v-160H180v160Zm440 0h160v-160H620v160Z\"/>\n",
              "  </svg>\n",
              "    </button>\n",
              "\n",
              "  <style>\n",
              "    .colab-df-container {\n",
              "      display:flex;\n",
              "      gap: 12px;\n",
              "    }\n",
              "\n",
              "    .colab-df-convert {\n",
              "      background-color: #E8F0FE;\n",
              "      border: none;\n",
              "      border-radius: 50%;\n",
              "      cursor: pointer;\n",
              "      display: none;\n",
              "      fill: #1967D2;\n",
              "      height: 32px;\n",
              "      padding: 0 0 0 0;\n",
              "      width: 32px;\n",
              "    }\n",
              "\n",
              "    .colab-df-convert:hover {\n",
              "      background-color: #E2EBFA;\n",
              "      box-shadow: 0px 1px 2px rgba(60, 64, 67, 0.3), 0px 1px 3px 1px rgba(60, 64, 67, 0.15);\n",
              "      fill: #174EA6;\n",
              "    }\n",
              "\n",
              "    .colab-df-buttons div {\n",
              "      margin-bottom: 4px;\n",
              "    }\n",
              "\n",
              "    [theme=dark] .colab-df-convert {\n",
              "      background-color: #3B4455;\n",
              "      fill: #D2E3FC;\n",
              "    }\n",
              "\n",
              "    [theme=dark] .colab-df-convert:hover {\n",
              "      background-color: #434B5C;\n",
              "      box-shadow: 0px 1px 3px 1px rgba(0, 0, 0, 0.15);\n",
              "      filter: drop-shadow(0px 1px 2px rgba(0, 0, 0, 0.3));\n",
              "      fill: #FFFFFF;\n",
              "    }\n",
              "  </style>\n",
              "\n",
              "    <script>\n",
              "      const buttonEl =\n",
              "        document.querySelector('#df-ab1e292b-70c3-48a3-8d81-d09298a7f6de button.colab-df-convert');\n",
              "      buttonEl.style.display =\n",
              "        google.colab.kernel.accessAllowed ? 'block' : 'none';\n",
              "\n",
              "      async function convertToInteractive(key) {\n",
              "        const element = document.querySelector('#df-ab1e292b-70c3-48a3-8d81-d09298a7f6de');\n",
              "        const dataTable =\n",
              "          await google.colab.kernel.invokeFunction('convertToInteractive',\n",
              "                                                    [key], {});\n",
              "        if (!dataTable) return;\n",
              "\n",
              "        const docLinkHtml = 'Like what you see? Visit the ' +\n",
              "          '<a target=\"_blank\" href=https://colab.research.google.com/notebooks/data_table.ipynb>data table notebook</a>'\n",
              "          + ' to learn more about interactive tables.';\n",
              "        element.innerHTML = '';\n",
              "        dataTable['output_type'] = 'display_data';\n",
              "        await google.colab.output.renderOutput(dataTable, element);\n",
              "        const docLink = document.createElement('div');\n",
              "        docLink.innerHTML = docLinkHtml;\n",
              "        element.appendChild(docLink);\n",
              "      }\n",
              "    </script>\n",
              "  </div>\n",
              "\n",
              "\n",
              "<div id=\"df-0e85cfb9-f9d9-4160-8ee5-245862cd074a\">\n",
              "  <button class=\"colab-df-quickchart\" onclick=\"quickchart('df-0e85cfb9-f9d9-4160-8ee5-245862cd074a')\"\n",
              "            title=\"Suggest charts\"\n",
              "            style=\"display:none;\">\n",
              "\n",
              "<svg xmlns=\"http://www.w3.org/2000/svg\" height=\"24px\"viewBox=\"0 0 24 24\"\n",
              "     width=\"24px\">\n",
              "    <g>\n",
              "        <path d=\"M19 3H5c-1.1 0-2 .9-2 2v14c0 1.1.9 2 2 2h14c1.1 0 2-.9 2-2V5c0-1.1-.9-2-2-2zM9 17H7v-7h2v7zm4 0h-2V7h2v10zm4 0h-2v-4h2v4z\"/>\n",
              "    </g>\n",
              "</svg>\n",
              "  </button>\n",
              "\n",
              "<style>\n",
              "  .colab-df-quickchart {\n",
              "      --bg-color: #E8F0FE;\n",
              "      --fill-color: #1967D2;\n",
              "      --hover-bg-color: #E2EBFA;\n",
              "      --hover-fill-color: #174EA6;\n",
              "      --disabled-fill-color: #AAA;\n",
              "      --disabled-bg-color: #DDD;\n",
              "  }\n",
              "\n",
              "  [theme=dark] .colab-df-quickchart {\n",
              "      --bg-color: #3B4455;\n",
              "      --fill-color: #D2E3FC;\n",
              "      --hover-bg-color: #434B5C;\n",
              "      --hover-fill-color: #FFFFFF;\n",
              "      --disabled-bg-color: #3B4455;\n",
              "      --disabled-fill-color: #666;\n",
              "  }\n",
              "\n",
              "  .colab-df-quickchart {\n",
              "    background-color: var(--bg-color);\n",
              "    border: none;\n",
              "    border-radius: 50%;\n",
              "    cursor: pointer;\n",
              "    display: none;\n",
              "    fill: var(--fill-color);\n",
              "    height: 32px;\n",
              "    padding: 0;\n",
              "    width: 32px;\n",
              "  }\n",
              "\n",
              "  .colab-df-quickchart:hover {\n",
              "    background-color: var(--hover-bg-color);\n",
              "    box-shadow: 0 1px 2px rgba(60, 64, 67, 0.3), 0 1px 3px 1px rgba(60, 64, 67, 0.15);\n",
              "    fill: var(--button-hover-fill-color);\n",
              "  }\n",
              "\n",
              "  .colab-df-quickchart-complete:disabled,\n",
              "  .colab-df-quickchart-complete:disabled:hover {\n",
              "    background-color: var(--disabled-bg-color);\n",
              "    fill: var(--disabled-fill-color);\n",
              "    box-shadow: none;\n",
              "  }\n",
              "\n",
              "  .colab-df-spinner {\n",
              "    border: 2px solid var(--fill-color);\n",
              "    border-color: transparent;\n",
              "    border-bottom-color: var(--fill-color);\n",
              "    animation:\n",
              "      spin 1s steps(1) infinite;\n",
              "  }\n",
              "\n",
              "  @keyframes spin {\n",
              "    0% {\n",
              "      border-color: transparent;\n",
              "      border-bottom-color: var(--fill-color);\n",
              "      border-left-color: var(--fill-color);\n",
              "    }\n",
              "    20% {\n",
              "      border-color: transparent;\n",
              "      border-left-color: var(--fill-color);\n",
              "      border-top-color: var(--fill-color);\n",
              "    }\n",
              "    30% {\n",
              "      border-color: transparent;\n",
              "      border-left-color: var(--fill-color);\n",
              "      border-top-color: var(--fill-color);\n",
              "      border-right-color: var(--fill-color);\n",
              "    }\n",
              "    40% {\n",
              "      border-color: transparent;\n",
              "      border-right-color: var(--fill-color);\n",
              "      border-top-color: var(--fill-color);\n",
              "    }\n",
              "    60% {\n",
              "      border-color: transparent;\n",
              "      border-right-color: var(--fill-color);\n",
              "    }\n",
              "    80% {\n",
              "      border-color: transparent;\n",
              "      border-right-color: var(--fill-color);\n",
              "      border-bottom-color: var(--fill-color);\n",
              "    }\n",
              "    90% {\n",
              "      border-color: transparent;\n",
              "      border-bottom-color: var(--fill-color);\n",
              "    }\n",
              "  }\n",
              "</style>\n",
              "\n",
              "  <script>\n",
              "    async function quickchart(key) {\n",
              "      const quickchartButtonEl =\n",
              "        document.querySelector('#' + key + ' button');\n",
              "      quickchartButtonEl.disabled = true;  // To prevent multiple clicks.\n",
              "      quickchartButtonEl.classList.add('colab-df-spinner');\n",
              "      try {\n",
              "        const charts = await google.colab.kernel.invokeFunction(\n",
              "            'suggestCharts', [key], {});\n",
              "      } catch (error) {\n",
              "        console.error('Error during call to suggestCharts:', error);\n",
              "      }\n",
              "      quickchartButtonEl.classList.remove('colab-df-spinner');\n",
              "      quickchartButtonEl.classList.add('colab-df-quickchart-complete');\n",
              "    }\n",
              "    (() => {\n",
              "      let quickchartButtonEl =\n",
              "        document.querySelector('#df-0e85cfb9-f9d9-4160-8ee5-245862cd074a button');\n",
              "      quickchartButtonEl.style.display =\n",
              "        google.colab.kernel.accessAllowed ? 'block' : 'none';\n",
              "    })();\n",
              "  </script>\n",
              "</div>\n",
              "\n",
              "    </div>\n",
              "  </div>\n"
            ],
            "application/vnd.google.colaboratory.intrinsic+json": {
              "type": "dataframe",
              "variable_name": "df",
              "summary": "{\n  \"name\": \"df\",\n  \"rows\": 10,\n  \"fields\": [\n    {\n      \"column\": \"Nombre\",\n      \"properties\": {\n        \"dtype\": \"string\",\n        \"num_unique_values\": 10,\n        \"samples\": [\n          \"GTA V\",\n          \"Call of Duty: Infinite Warfare\",\n          \"The Witcher 3: Wild Hunt\"\n        ],\n        \"semantic_type\": \"\",\n        \"description\": \"\"\n      }\n    },\n    {\n      \"column\": \"Plataforma\",\n      \"properties\": {\n        \"dtype\": \"string\",\n        \"num_unique_values\": 5,\n        \"samples\": [\n          \"PS4\",\n          \"Mobile\",\n          \"Switch\"\n        ],\n        \"semantic_type\": \"\",\n        \"description\": \"\"\n      }\n    },\n    {\n      \"column\": \"A\\u00f1o_de_lanzamiento\",\n      \"properties\": {\n        \"dtype\": \"number\",\n        \"std\": 10,\n        \"min\": 1985,\n        \"max\": 2020,\n        \"num_unique_values\": 7,\n        \"samples\": [\n          1985,\n          2016,\n          2015\n        ],\n        \"semantic_type\": \"\",\n        \"description\": \"\"\n      }\n    },\n    {\n      \"column\": \"G\\u00e9nero\",\n      \"properties\": {\n        \"dtype\": \"string\",\n        \"num_unique_values\": 8,\n        \"samples\": [\n          \"Shooter\",\n          \"RPG\",\n          \"Platform\"\n        ],\n        \"semantic_type\": \"\",\n        \"description\": \"\"\n      }\n    },\n    {\n      \"column\": \"Editor\",\n      \"properties\": {\n        \"dtype\": \"string\",\n        \"num_unique_values\": 8,\n        \"samples\": [\n          \"Activision\",\n          \"Blizzard\",\n          \"Nintendo\"\n        ],\n        \"semantic_type\": \"\",\n        \"description\": \"\"\n      }\n    },\n    {\n      \"column\": \"Ventas_NA\",\n      \"properties\": {\n        \"dtype\": \"number\",\n        \"std\": 3.4690762459190774,\n        \"min\": 1.15,\n        \"max\": 9.76,\n        \"num_unique_values\": 10,\n        \"samples\": [\n          1.57,\n          9.66,\n          1.68\n        ],\n        \"semantic_type\": \"\",\n        \"description\": \"\"\n      }\n    },\n    {\n      \"column\": \"Ventas_EU\",\n      \"properties\": {\n        \"dtype\": \"number\",\n        \"std\": 1.751269063660217,\n        \"min\": 1.24,\n        \"max\": 6.88,\n        \"num_unique_values\": 10,\n        \"samples\": [\n          3.32,\n          6.88,\n          5.45\n        ],\n        \"semantic_type\": \"\",\n        \"description\": \"\"\n      }\n    },\n    {\n      \"column\": \"Ventas_JP\",\n      \"properties\": {\n        \"dtype\": \"number\",\n        \"std\": 1.5748372049904786,\n        \"min\": 0.13,\n        \"max\": 4.82,\n        \"num_unique_values\": 10,\n        \"samples\": [\n          3.43,\n          2.79,\n          4.46\n        ],\n        \"semantic_type\": \"\",\n        \"description\": \"\"\n      }\n    },\n    {\n      \"column\": \"Ventas_Otros\",\n      \"properties\": {\n        \"dtype\": \"number\",\n        \"std\": 0.6033324125223176,\n        \"min\": 0.67,\n        \"max\": 2.48,\n        \"num_unique_values\": 10,\n        \"samples\": [\n          0.77,\n          2.11,\n          1.46\n        ],\n        \"semantic_type\": \"\",\n        \"description\": \"\"\n      }\n    },\n    {\n      \"column\": \"Ventas_Global\",\n      \"properties\": {\n        \"dtype\": \"number\",\n        \"std\": 4.32317385981899,\n        \"min\": 2.29,\n        \"max\": 16.42,\n        \"num_unique_values\": 9,\n        \"samples\": [\n          10.8,\n          7.93,\n          2.29\n        ],\n        \"semantic_type\": \"\",\n        \"description\": \"\"\n      }\n    }\n  ]\n}"
            }
          },
          "metadata": {},
          "execution_count": 4
        }
      ]
    },
    {
      "cell_type": "code",
      "source": [
        "# Mostrar el resumen de los valores faltantes en cada columna\n",
        "missing_values = df.isnull().sum()\n",
        "print(missing_values)\n"
      ],
      "metadata": {
        "colab": {
          "base_uri": "https://localhost:8080/"
        },
        "id": "uFnDpeZTrOeX",
        "outputId": "aa4be66e-90f2-42ff-e752-9be6133df8b1"
      },
      "execution_count": 6,
      "outputs": [
        {
          "output_type": "stream",
          "name": "stdout",
          "text": [
            "Nombre                0\n",
            "Plataforma            0\n",
            "Año_de_lanzamiento    0\n",
            "Género                0\n",
            "Editor                0\n",
            "Ventas_NA             0\n",
            "Ventas_EU             0\n",
            "Ventas_JP             0\n",
            "Ventas_Otros          0\n",
            "Ventas_Global         0\n",
            "dtype: int64\n"
          ]
        }
      ]
    },
    {
      "cell_type": "code",
      "source": [
        "# Verificar los primeros registros y el tipo de datos de la columna \"Año_de_lanzamiento\"\n",
        "print(df['Año_de_lanzamiento'].head())\n",
        "print(df['Año_de_lanzamiento'].dtype)\n",
        "\n",
        "# Verificar valores únicos para identificar cualquier formato incorrecto\n",
        "print(df['Año_de_lanzamiento'].unique())\n"
      ],
      "metadata": {
        "colab": {
          "base_uri": "https://localhost:8080/"
        },
        "id": "NhtjtrYusFdN",
        "outputId": "5ff9d09c-4cfc-41a2-d755-2fa127eb4877"
      },
      "execution_count": 7,
      "outputs": [
        {
          "output_type": "stream",
          "name": "stdout",
          "text": [
            "0    1985\n",
            "1    2016\n",
            "2    2017\n",
            "3    2020\n",
            "4    2011\n",
            "Name: Año_de_lanzamiento, dtype: int64\n",
            "int64\n",
            "[1985 2016 2017 2020 2011 2015 2013]\n"
          ]
        }
      ]
    },
    {
      "cell_type": "code",
      "source": [
        "# Filtrar los juegos lanzados en el año 2016 y contarlos\n",
        "juegos_2016 = df[df['Año_de_lanzamiento'] == 2016]\n",
        "total_juegos_2016 = len(juegos_2016)\n",
        "\n",
        "# Mostrar el resultado\n",
        "print(f\"El número total de juegos lanzados en el año 2016 es: {total_juegos_2016}\")\n",
        "\n"
      ],
      "metadata": {
        "colab": {
          "base_uri": "https://localhost:8080/"
        },
        "id": "4T92oj3DsmX7",
        "outputId": "a9fbb8c4-b273-41ec-f8cd-bd51e1317ede"
      },
      "execution_count": 8,
      "outputs": [
        {
          "output_type": "stream",
          "name": "stdout",
          "text": [
            "El número total de juegos lanzados en el año 2016 es: 3\n"
          ]
        }
      ]
    },
    {
      "cell_type": "code",
      "source": [
        "# Contar los títulos lanzados por cada plataforma y seleccionar las 10 más comunes\n",
        "top_plataformas = df['Plataforma'].value_counts().head(10)\n",
        "\n",
        "# Mostrar el resultado\n",
        "print(\"Las 10 plataformas con más títulos lanzados son:\")\n",
        "print(top_plataformas)\n"
      ],
      "metadata": {
        "colab": {
          "base_uri": "https://localhost:8080/"
        },
        "id": "Yxf6QPmttaKE",
        "outputId": "8e465cbe-b31f-4cf6-e71f-51fceab4f9e9"
      },
      "execution_count": 9,
      "outputs": [
        {
          "output_type": "stream",
          "name": "stdout",
          "text": [
            "Las 10 plataformas con más títulos lanzados son:\n",
            "Plataforma\n",
            "PS4       4\n",
            "Switch    2\n",
            "PC        2\n",
            "NES       1\n",
            "Mobile    1\n",
            "Name: count, dtype: int64\n"
          ]
        }
      ]
    },
    {
      "cell_type": "code",
      "source": [
        "# Contar los juegos por género y seleccionar los 5 más comunes\n",
        "top_generos = df['Género'].value_counts().head(5)\n",
        "\n",
        "# Mostrar el resultado\n",
        "print(\"Los 5 géneros más populares en términos de cantidad de juegos son:\")\n",
        "print(top_generos)\n"
      ],
      "metadata": {
        "colab": {
          "base_uri": "https://localhost:8080/"
        },
        "id": "FePG2ZWTtzNS",
        "outputId": "66695354-079d-4bda-ebbe-b55fbfb707ec"
      },
      "execution_count": 10,
      "outputs": [
        {
          "output_type": "stream",
          "name": "stdout",
          "text": [
            "Los 5 géneros más populares en términos de cantidad de juegos son:\n",
            "Género\n",
            "Shooter             2\n",
            "Action-Adventure    2\n",
            "Platform            1\n",
            "Sports              1\n",
            "Sandbox             1\n",
            "Name: count, dtype: int64\n"
          ]
        }
      ]
    },
    {
      "cell_type": "code",
      "source": [
        "# Calcular las ventas totales por región\n",
        "ventas_por_region = df[['Ventas_NA', 'Ventas_EU', 'Ventas_JP', 'Ventas_Otros']].sum()\n",
        "\n",
        "# Mostrar el resultado\n",
        "print(\"Ventas totales por región:\")\n",
        "print(ventas_por_region)\n"
      ],
      "metadata": {
        "colab": {
          "base_uri": "https://localhost:8080/"
        },
        "id": "GRIp9L9QuElr",
        "outputId": "92701794-89c0-4aa3-b606-537a17334f85"
      },
      "execution_count": 11,
      "outputs": [
        {
          "output_type": "stream",
          "name": "stdout",
          "text": [
            "Ventas totales por región:\n",
            "Ventas_NA       46.27\n",
            "Ventas_EU       38.99\n",
            "Ventas_JP       29.13\n",
            "Ventas_Otros    12.49\n",
            "dtype: float64\n"
          ]
        }
      ]
    },
    {
      "cell_type": "code",
      "source": [
        "# Encontrar el videojuego más vendido de cada género\n",
        "juegos_mas_vendidos_por_genero = df.loc[df.groupby('Género')['Ventas_Global'].idxmax()]\n",
        "\n",
        "# Mostrar el resultado\n",
        "print(\"El videojuego más vendido de cada género es:\")\n",
        "print(juegos_mas_vendidos_por_genero[['Género', 'Nombre', 'Ventas_Global']])\n"
      ],
      "metadata": {
        "colab": {
          "base_uri": "https://localhost:8080/"
        },
        "id": "LqqOLkkGuzys",
        "outputId": "d7f0e928-9f07-46d0-ae40-8a66f49be336"
      },
      "execution_count": 12,
      "outputs": [
        {
          "output_type": "stream",
          "name": "stdout",
          "text": [
            "El videojuego más vendido de cada género es:\n",
            "              Género                                   Nombre  Ventas_Global\n",
            "2   Action-Adventure  The Legend of Zelda: Breath of the Wild          16.21\n",
            "7  Augmented Reality                               Pokemon Go           7.29\n",
            "0           Platform                        Super Mario Bros.           8.22\n",
            "5                RPG                 The Witcher 3: Wild Hunt           6.75\n",
            "4            Sandbox                                Minecraft          16.42\n",
            "1            Shooter           Call of Duty: Infinite Warfare           7.93\n",
            "9         Simulation            Animal Crossing: New Horizons          11.36\n",
            "3             Sports                                  FIFA 21           8.22\n"
          ]
        }
      ]
    },
    {
      "cell_type": "code",
      "source": [
        "# Agrupar y sumar las ventas globales por año\n",
        "ventas_por_año = df.groupby('Año_de_lanzamiento')['Ventas_Global'].sum()\n",
        "\n",
        "# Mostrar el resultado\n",
        "print(\"Ventas globales de videojuegos a lo largo de los años:\")\n",
        "print(ventas_por_año)\n"
      ],
      "metadata": {
        "colab": {
          "base_uri": "https://localhost:8080/"
        },
        "id": "0wzH-w-dvNvR",
        "outputId": "e4deefea-2f1e-4d6a-b8ca-d3c1e1fb336b"
      },
      "execution_count": 13,
      "outputs": [
        {
          "output_type": "stream",
          "name": "stdout",
          "text": [
            "Ventas globales de videojuegos a lo largo de los años:\n",
            "Año_de_lanzamiento\n",
            "1985     8.22\n",
            "2011    16.42\n",
            "2013    10.80\n",
            "2015     6.75\n",
            "2016    17.51\n",
            "2017    16.21\n",
            "2020    19.58\n",
            "Name: Ventas_Global, dtype: float64\n"
          ]
        }
      ]
    },
    {
      "cell_type": "code",
      "source": [
        "import matplotlib.pyplot as plt  # Importing matplotlib.pyplot module\n",
        "\n",
        "# Contar el número de juegos lanzados por año\n",
        "juegos_por_año = df['Año_de_lanzamiento'].value_counts().sort_index()\n",
        "\n",
        "# Mostrar el número de juegos lanzados por año\n",
        "print(\"Número de juegos lanzados cada año:\")\n",
        "print(juegos_por_año)\n",
        "\n",
        "# Configurar el tamaño del gráfico\n",
        "plt.figure(figsize=(12, 6))\n",
        "\n",
        "# Crear el gráfico de barras del número de juegos lanzados por año\n",
        "plt.bar(juegos_por_año.index, juegos_por_año.values, color='skyblue')\n",
        "\n",
        "# Configurar el título y etiquetas de los ejes\n",
        "plt.title('Número de Juegos Lanzados por Año')\n",
        "plt.xlabel('Año')\n",
        "plt.ylabel('Número de Juegos Lanzados')\n",
        "plt.grid(axis='y', linestyle='--', alpha=0.7)\n",
        "\n",
        "# Rotar los años en el eje x para mejor visualización\n",
        "plt.xticks(rotation=45)\n",
        "\n",
        "# Mostrar el gráfico\n",
        "plt.tight_layout()\n",
        "plt.show()\n",
        "\n",
        "\n"
      ],
      "metadata": {
        "colab": {
          "base_uri": "https://localhost:8080/",
          "height": 533
        },
        "id": "u_xStf76vmnW",
        "outputId": "dbd49efa-cb27-4bec-989f-c8959d5ca97f"
      },
      "execution_count": 15,
      "outputs": [
        {
          "output_type": "stream",
          "name": "stdout",
          "text": [
            "Número de juegos lanzados cada año:\n",
            "Año_de_lanzamiento\n",
            "1985    1\n",
            "2011    1\n",
            "2013    1\n",
            "2015    1\n",
            "2016    3\n",
            "2017    1\n",
            "2020    2\n",
            "Name: count, dtype: int64\n"
          ]
        },
        {
          "output_type": "display_data",
          "data": {
            "text/plain": [
              "<Figure size 1200x600 with 1 Axes>"
            ],
            "image/png": "[encoded data removed]"
          },
          "metadata": {}
        }
      ]
    },
    {
      "cell_type": "code",
      "source": [
        "import matplotlib.pyplot as plt\n",
        "\n",
        "# Example data (replace with your actual data retrieval or computation)\n",
        "genres = ['Action', 'Adventure', 'Sports', 'RPG', 'Shooter']\n",
        "sales = [250, 180, 200, 150, 300]  # Example sales data in millions\n",
        "\n",
        "# Create a DataFrame or Series from your data (assuming pandas DataFrame)\n",
        "ventas_por_genero = pd.Series(sales, index=genres)\n",
        "\n",
        "# Configure the size of the plot\n",
        "plt.figure(figsize=(10, 6))\n",
        "\n",
        "# Create the bar plot of global sales by genre\n",
        "ventas_por_genero.plot(kind='bar', color='skyblue')\n",
        "\n",
        "# Configure the title and axis labels\n",
        "plt.title('Ventas Globales por Género de Videojuegos')\n",
        "plt.xlabel('Género')\n",
        "plt.ylabel('Ventas Globales (en millones)')\n",
        "plt.grid(axis='y', linestyle='--', alpha=0.7)\n",
        "\n",
        "# Rotate the x-axis labels for better readability\n",
        "plt.xticks(rotation=45)\n",
        "\n",
        "# Display the plot\n",
        "plt.tight_layout()\n",
        "plt.show()\n",
        "\n",
        "\n"
      ],
      "metadata": {
        "colab": {
          "base_uri": "https://localhost:8080/",
          "height": 433
        },
        "id": "joyggoA4xCVl",
        "outputId": "01f02011-1782-4104-ac33-0fcf3d80cc8b"
      },
      "execution_count": 17,
      "outputs": [
        {
          "output_type": "display_data",
          "data": {
            "text/plain": [
              "<Figure size 1000x600 with 1 Axes>"
            ],
            "image/png": "[encoded data removed]"
          },
          "metadata": {}
        }
      ]
    },
    {
      "cell_type": "code",
      "source": [
        "# Calcular las ventas globales por plataforma\n",
        "ventas_por_plataforma = df.groupby('Plataforma')['Ventas_Global'].sum().sort_values(ascending=False)\n",
        "\n",
        "# Mostrar el resultado\n",
        "print(\"Ventas globales por plataforma:\")\n",
        "print(ventas_por_plataforma)\n",
        "\n"
      ],
      "metadata": {
        "colab": {
          "base_uri": "https://localhost:8080/"
        },
        "id": "1G1XXHllxj90",
        "outputId": "8be77d66-b1a9-443b-b5f5-5d4b6d397190"
      },
      "execution_count": 18,
      "outputs": [
        {
          "output_type": "stream",
          "name": "stdout",
          "text": [
            "Ventas globales por plataforma:\n",
            "Plataforma\n",
            "PS4       33.70\n",
            "Switch    27.57\n",
            "PC        18.71\n",
            "NES        8.22\n",
            "Mobile     7.29\n",
            "Name: Ventas_Global, dtype: float64\n"
          ]
        }
      ]
    },
    {
      "cell_type": "code",
      "source": [
        "# Configurar el tamaño del gráfico\n",
        "plt.figure(figsize=(12, 6))\n",
        "\n",
        "# Crear el gráfico de barras de las ventas globales por plataforma\n",
        "ventas_por_plataforma.plot(kind='bar', color='skyblue')\n",
        "\n",
        "# Configurar el título y etiquetas de los ejes\n",
        "plt.title('Ventas Globales por Plataforma de Videojuegos')\n",
        "plt.xlabel('Plataforma')\n",
        "plt.ylabel('Ventas Globales (en millones)')\n",
        "plt.grid(axis='y', linestyle='--', alpha=0.7)\n",
        "\n",
        "# Rotar las etiquetas del eje x para mejor visualización\n",
        "plt.xticks(rotation=45)\n",
        "\n",
        "# Mostrar el gráfico\n",
        "plt.tight_layout()\n",
        "plt.show()\n"
      ],
      "metadata": {
        "colab": {
          "base_uri": "https://localhost:8080/",
          "height": 363
        },
        "id": "nyEx1TdMx80J",
        "outputId": "89b070dc-e1aa-487c-9638-52add645c133"
      },
      "execution_count": 19,
      "outputs": [
        {
          "output_type": "display_data",
          "data": {
            "text/plain": [
              "<Figure size 1200x600 with 1 Axes>"
            ],
            "image/png": "[encoded data removed]"
          },
          "metadata": {}
        }
      ]
    },
    {
      "cell_type": "markdown",
      "source": [],
      "metadata": {
        "id": "Pe2Y5az1yO6g"
      }
    },
    {
      "cell_type": "markdown",
      "source": [
        "1. Plataformas más populares por ventas globales\n",
        "Al analizar las ventas globales por plataforma, podemos identificar cuáles son las plataformas más populares en términos de ventas de videojuegos. Por ejemplo, podríamos observar que plataformas como PlayStation (PS2, PS3, PS4) o Xbox (X360, XB) han acumulado las mayores ventas a lo largo del tiempo, indicando su fuerte impacto en el mercado de videojuegos.\n",
        "\n",
        "2. Géneros de videojuegos más vendidos\n",
        "Al estudiar las ventas globales por género, es posible identificar cuáles son los géneros de videojuegos más populares entre los consumidores. Es probable encontrar que géneros como Acción, Deportes y Disparos (Shooter) suelen liderar las ventas, reflejando las preferencias y tendencias de los jugadores a nivel global.\n",
        "\n",
        "3. Evolución de las preferencias a lo largo del tiempo\n",
        "Analizando las ventas por año y por género o plataforma, podemos observar cómo han evolucionado las preferencias de los jugadores a lo largo de los años. Por ejemplo, podríamos ver un aumento significativo en las ventas de juegos de Mundo Abierto (Open World) a partir de cierto año, lo que podría indicar una tendencia emergente en la industria de los videojuegos.\n",
        "\n",
        "\n"
      ],
      "metadata": {
        "id": "BEDI3p5Uyb9R"
      }
    },
    {
      "cell_type": "markdown",
      "source": [
        "Conclusiones importantes sobre las tendencias actuales en la industria:\n",
        "\n",
        "Dominio de Plataformas Específicas: Las plataformas como PlayStation (PS2, PS3, PS4) y Xbox (X360, XB) han mostrado consistentemente altas ventas globales a lo largo de los años. Esto sugiere que estas plataformas continúan siendo dominantes en el mercado de videojuegos y son preferidas por un gran número de jugadores en todo el mundo.\n",
        "\n",
        "Popularidad de Géneros Establecidos: Géneros como Acción, Deportes y Disparos (Shooter) son consistentemente los más vendidos. Estos géneros parecen mantener una base de jugadores leal y activa, lo que indica una demanda continua por experiencias de juego emocionantes y competitivas.\n",
        "\n",
        "Evolución hacia Nuevos Géneros y Formatos: A medida que avanzan los años, se observa un crecimiento en la popularidad de géneros emergentes como Mundo Abierto (Open World) y RPG (Role-Playing Game). Esto sugiere una tendencia hacia experiencias de juego más inmersivas y narrativas, donde los jugadores pueden explorar mundos vastos y personalizar sus experiencias de juego de manera más profunda.\n",
        "\n",
        "Impacto de las Innovaciones Tecnológicas: La introducción de nuevas tecnologías y capacidades en las consolas y en los juegos, como gráficos avanzados, realidad virtual (VR) y realidad aumentada (AR), está influyendo en la dirección y la popularidad de ciertos géneros y plataformas. Los juegos que aprovechan estas tecnologías suelen captar la atención y generar ventas significativas.\n",
        "\n",
        "Globalización del Mercado: Las ventas globales muestran una distribución amplia y diversa, con ciertos juegos y géneros que tienen un éxito notable en mercados específicos como América del Norte, Europa y Japón. Esta diversidad refleja las diferencias culturales y las preferencias de los jugadores en diferentes regiones del mundo.\n",
        "\n",
        "En resumen, la industria de los videojuegos continúa siendo dinámica y diversa, con un enfoque creciente en la innovación tecnológica y la satisfacción de las demandas cambiantes de los jugadores. Las tendencias actuales sugieren un futuro emocionante donde la convergencia de nuevas tecnologías y la evolución de los gustos de los consumidores seguirán dando forma al paisaje de los videojuegos globalmente.\n"
      ],
      "metadata": {
        "id": "dq8baF8vy6th"
      }
    }
  ]
}